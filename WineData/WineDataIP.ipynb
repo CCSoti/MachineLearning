{
 "metadata": {
  "name": "",
  "signature": "sha256:25043d73dc625768fadc8f8386168305f25643fc7a0110eadc450b6a831809c1"
 },
 "nbformat": 3,
 "nbformat_minor": 0,
 "worksheets": [
  {
   "cells": [
    {
     "cell_type": "heading",
     "level": 1,
     "metadata": {},
     "source": [
      "Machine Learning: Assignment"
     ]
    },
    {
     "cell_type": "markdown",
     "metadata": {},
     "source": [
      "IMPORTANT: I am using IPython 3.4 \n",
      "<br><br>\n",
      "At first we imported some libraries that we need for next functionalities:"
     ]
    },
    {
     "cell_type": "code",
     "collapsed": false,
     "input": [
      "%matplotlib inline  \n",
      "import sys\n",
      "import os\n",
      "from pandas import *\n",
      "import pandas as pd\n",
      "from matplotlib import *\n",
      "import numpy as np\n",
      "import scipy.stats as stats\n",
      "import matplotlib.pyplot as plt\n",
      "from collections import Counter"
     ],
     "language": "python",
     "metadata": {},
     "outputs": [],
     "prompt_number": 39
    },
    {
     "cell_type": "markdown",
     "metadata": {},
     "source": [
      "We will continue with the tasks:"
     ]
    },
    {
     "cell_type": "heading",
     "level": 3,
     "metadata": {},
     "source": [
      "Part 1: import the .csv files"
     ]
    },
    {
     "cell_type": "markdown",
     "metadata": {},
     "source": [
      "Since the csv files might not be in the same location as the one I put them in, I am taking the absolute path of the specific files. However, IPython will take the path of the .ipynb code and that's why it's good to save copies of the .csv files in the same folder as the IPython script.  "
     ]
    },
    {
     "cell_type": "code",
     "collapsed": false,
     "input": [
      "white_path = os.path.abspath('winequality-white.csv')\n",
      "red_path = os.path.abspath(\"winequality-red.csv\")\n",
      "\n",
      "white_data = read_csv(white_path, sep=\";\")  \n",
      "# we use sep = \";\", because the sefault is something else and will not read the files correctly\n",
      "red_data = read_csv(red_path, sep = \";\") "
     ],
     "language": "python",
     "metadata": {},
     "outputs": [],
     "prompt_number": 40
    },
    {
     "cell_type": "markdown",
     "metadata": {},
     "source": [
      "Then we take lists of values of both .csv files that are only for the target column - \"quality\"."
     ]
    },
    {
     "cell_type": "heading",
     "level": 3,
     "metadata": {},
     "source": [
      "Part 2: plot bar-plots of the number of examples with each target value for the two datasets"
     ]
    },
    {
     "cell_type": "code",
     "collapsed": false,
     "input": [
      "target_list_w = white_data['quality'] # we can take that, also, with the function white_data.drop('quality', axis = 1)\n",
      "target_list_r = red_data['quality']"
     ],
     "language": "python",
     "metadata": {},
     "outputs": [],
     "prompt_number": 41
    },
    {
     "cell_type": "markdown",
     "metadata": {},
     "source": [
      "Afterwards, we create a function for creating a bar chart from a specific list (that will be the lists from the values of target columns):"
     ]
    },
    {
     "cell_type": "code",
     "collapsed": false,
     "input": [
      "# bar charts for the number of values in the target list in both csv files\n",
      "def bar_chart(list, str):\n",
      "    target_w_dict = Counter(list)\n",
      "    diff_values = len(target_w_dict.keys()) # it can be only the length of the dictionary\n",
      "    width = 0.35\n",
      "    num_values = []\n",
      "    N = diff_values\n",
      "    ind = np.arange(N)\n",
      "\n",
      "    for i in range(0, diff_values):\n",
      "        num_values.append(i)\n",
      "    keys = []\n",
      "    values = []\n",
      "    for key in target_w_dict.keys():\n",
      "        keys.append(key)\n",
      "    for v in target_w_dict.values():\n",
      "        values.append(v)\n",
      "\n",
      "\n",
      "    fig, ax = plt.subplots()\n",
      "    rects1 = ax.bar(ind, values, width, color='r', yerr=num_values)\n",
      "\n",
      "    ax.set_ylabel('Num. of values')\n",
      "    ax.set_title('Target values' + str)\n",
      "    ax.set_ylim(bottom=0.)\n",
      "    ax.set_xticks(ind)\n",
      "    ax.set_xticklabels(keys)\n",
      "\n",
      "    for rect in rects1:\n",
      "        height = rect.get_height()\n",
      "        ax.text(rect.get_x()+rect.get_width()/2., height, '%d'%int(height),\n",
      "                ha='center', va='bottom')\n"
     ],
     "language": "python",
     "metadata": {},
     "outputs": [],
     "prompt_number": 42
    },
    {
     "cell_type": "markdown",
     "metadata": {},
     "source": [
      "Then we plot the bars:"
     ]
    },
    {
     "cell_type": "code",
     "collapsed": false,
     "input": [
      "str_red = \"(Red Wine)\"\n",
      "str_white = \"(White Wine)\"\n",
      "bar_chart(target_list_w, str_white)\n",
      "bar_chart(target_list_r, str_red)\n",
      "# figure(figsize(18,10)) #not working here, but it's good to make the bar bigger\n",
      "plt.show()"
     ],
     "language": "python",
     "metadata": {},
     "outputs": [
      {
       "metadata": {},
       "output_type": "display_data",
       "png": "[encoded data removed]",
       "text": [
        "<matplotlib.figure.Figure at 0xb742dd8>"
       ]
      },
      {
       "metadata": {},
       "output_type": "display_data",
       "png": "[encoded data removed]",
       "text": [
        "<matplotlib.figure.Figure at 0xb860b70>"
       ]
      }
     ],
     "prompt_number": 43
    },
    {
     "cell_type": "heading",
     "level": 3,
     "metadata": {},
     "source": [
      "Part 3: How might these distributions effect the analysis? "
     ]
    },
    {
     "cell_type": "markdown",
     "metadata": {},
     "source": [
      "As we can see from the bar chart of the white wine analysis the most common value of the quality of the white wine is 6. For the red wine is 5. Since the \"quality\" attribute is the target value for the analysis, this means that it's calculated and it depends from the other values(the features). Also, when we compute Linear Regression, Regularised linear regression or we classify the data, we might see that some points(on the charts that we will compute) are really close to each other, since we don't have a lot of variation of values in the quality. For the most common values in the \"quality\" attribute, the values for the features will be really close to each other, because they compute the same value(e.g. 6 for white wine or 5 for red wine)."
     ]
    },
    {
     "cell_type": "heading",
     "level": 3,
     "metadata": {},
     "source": [
      "Part 4: Linear regression: "
     ]
    },
    {
     "cell_type": "markdown",
     "metadata": {},
     "source": [
      "The objective is to find the best-fitting straight line through a set of points that minimizes the sum of the squared offsets from the line."
     ]
    },
    {
     "cell_type": "heading",
     "level": 3,
     "metadata": {},
     "source": [
      "4.(a)"
     ]
    },
    {
     "cell_type": "markdown",
     "metadata": {},
     "source": [
      "For this part we will split the data (randomly) into training set and test set. 70% from the data will be for the training set and the rest for the test set. <br>\n",
      "The data that we will be using is: red_data. <br>\n",
      "The target set of our red wine data is: target_list_r\n",
      "Also, we will put the data from the red wine data into a list of the rows in the table(it will be easier to iterate through the data and after that manipulate it)."
     ]
    },
    {
     "cell_type": "code",
     "collapsed": false,
     "input": [
      "red_raw_data = []\n",
      "for row in range(0, len(red_data)):\n",
      "    red_raw_data.append(red_data.irow(row))\n",
      "print(len(red_raw_data))"
     ],
     "language": "python",
     "metadata": {},
     "outputs": [
      {
       "output_type": "stream",
       "stream": "stdout",
       "text": [
        "1599\n"
       ]
      }
     ],
     "prompt_number": 44
    },
    {
     "cell_type": "markdown",
     "metadata": {},
     "source": [
      "<br>In order to split the red wine data into training set and test set we need to know how much is 70% and 30% (in length) in the data:<br>"
     ]
    },
    {
     "cell_type": "code",
     "collapsed": false,
     "input": [
      "train_len = int((7*len(target_list_r))/10) # The value is 1119.3. but we will try to be as close as possible to this value\n",
      "test_len = int(len(target_list_r) - train_len) \n",
      "print(train_len)\n",
      "print(test_len)"
     ],
     "language": "python",
     "metadata": {},
     "outputs": [
      {
       "output_type": "stream",
       "stream": "stdout",
       "text": [
        "1119\n",
        "480\n"
       ]
      }
     ],
     "prompt_number": 45
    },
    {
     "cell_type": "markdown",
     "metadata": {},
     "source": [
      "<br>Then we will take random rows from the data.<br>\n",
      "<i>(The method below runs a little bit slower(you have to wait several seconds))</i>"
     ]
    },
    {
     "cell_type": "code",
     "collapsed": false,
     "input": [
      "import random\n",
      "\n",
      "training_set = []\n",
      "test_set = []\n",
      "\n",
      "\n",
      "for tr in range(0, len(red_raw_data)):\n",
      "    rand_num = random.choice(red_raw_data)\n",
      "    if(len(training_set)>=train_len):\n",
      "        for t in test_set:\n",
      "            if(t.equals(rand_num)):\n",
      "                rand_num = random.choice(red_raw_data)\n",
      "        test_set.append(rand_num)\n",
      "    else:\n",
      "        for t in training_set:\n",
      "            if(t.equals(rand_num)):\n",
      "                rand_num = random.choice(red_raw_data)\n",
      "        training_set.append(rand_num)\n",
      "    tr +=1\n",
      "print(len(test_set))"
     ],
     "language": "python",
     "metadata": {},
     "outputs": [
      {
       "output_type": "stream",
       "stream": "stdout",
       "text": [
        "480\n"
       ]
      }
     ],
     "prompt_number": 46
    },
    {
     "cell_type": "heading",
     "level": 3,
     "metadata": {},
     "source": [
      "<br>4.(b)"
     ]
    },
    {
     "cell_type": "markdown",
     "metadata": {},
     "source": [
      "In order to fit a linear regression we need first to convert the data into matrix form(or vector) and then calculate the optimal value:"
     ]
    },
    {
     "cell_type": "code",
     "collapsed": false,
     "input": [
      "train_x = []\n",
      "column_list = red_data.columns.values\n",
      "for x in training_set:\n",
      "    train_x.append(x.drop('quality'))\n",
      "\n",
      "    train_target = [] #dividing the target data from the other data\n",
      "for x in training_set:\n",
      "    train_target.append(x.drop(column_list[:11]))\n",
      "\n",
      "test_x = []\n",
      "for x in test_set:\n",
      "    test_x.append(x.drop('quality'))\n",
      "\n",
      "    test_target = [] #dividing the target data from the other data\n",
      "for x in test_set:\n",
      "    test_target.append(x.drop(column_list[:11]))  \n",
      "    "
     ],
     "language": "python",
     "metadata": {},
     "outputs": [],
     "prompt_number": 47
    },
    {
     "cell_type": "markdown",
     "metadata": {},
     "source": [
      "Matrix and vector form <br>\n",
      "We first defined $\\mathbf{w},\\mathbf{x}_n$ as:\n",
      "$ \\mathbf{w} = \\left[\\begin{array}{c} w_0\\\\w_1\\end{array}\\right],~~\\mathbf{x}_n = \\left[\\begin{array}{c} 1 \\\\ x_n \\end{array}\\right] $\n",
      "and:\n",
      "$ \\mathbf{t} = \\left[\\begin{array}{c} t_1\\\\ t_2\\\\ \\vdots\\\\ t_N \\end{array}\\right]$\n",
      "and:\n",
      "$ \\mathbf{X} = \\left[\\begin{array}{c} \\mathbf{x}_1^T \\\\ \\mathbf{x}_2^T \\\\ \\vdots \\\\ \\mathbf{x}_N^T \\end{array}\\right] = \\left[ \\begin{array}{cc} 1 & x_1 \\\\ 1 & x_2 \\\\ \\vdots \\\\ 1 & x_N \\end{array}\\right] $\n",
      "<br><br>The optimal value of $\\mathbf{w}$ is then given by:\n",
      "$ \\mathbf{w} = \\left(\\mathbf{X}^T\\mathbf{X}\\right)^{-1}\\mathbf{X}^T\\mathbf{t} $"
     ]
    },
    {
     "cell_type": "code",
     "collapsed": false,
     "input": [
      "t = np.array(train_target)\n",
      "train_x_copy = train_x\n",
      "x = np.array(train_x_copy)\n",
      "x = np.c_[np.ones(x.shape[0]), train_x_copy]\n",
      "w = np.dot(np.linalg.inv(np.dot(x.T,x)),np.dot(x.T,t))\n",
      "print(w)"
     ],
     "language": "python",
     "metadata": {},
     "outputs": [
      {
       "output_type": "stream",
       "stream": "stdout",
       "text": [
        "[[  8.93559511e+00]\n",
        " [  1.64038890e-02]\n",
        " [ -1.15274969e+00]\n",
        " [ -4.45043275e-01]\n",
        " [  2.01739173e-02]\n",
        " [ -1.75634785e+00]\n",
        " [  1.06693372e-03]\n",
        " [ -2.38298770e-03]\n",
        " [ -4.58445471e+00]\n",
        " [ -5.21267451e-01]\n",
        " [  8.00971306e-01]\n",
        " [  3.12780589e-01]]\n"
       ]
      }
     ],
     "prompt_number": 48
    },
    {
     "cell_type": "heading",
     "level": 3,
     "metadata": {},
     "source": [
      "<br>4.(c)"
     ]
    },
    {
     "cell_type": "markdown",
     "metadata": {},
     "source": [
      "Now I am plotting(creating scatter plot) the predicted values against the True values."
     ]
    },
    {
     "cell_type": "code",
     "collapsed": false,
     "input": [
      "test_x_copy = test_x\n",
      "t_x = np.array(test_x_copy)\n",
      "t_x_c = np.c_[np.ones(t_x.shape[0]), test_x_copy] # the matrix with additional column 1\n",
      "\n",
      "f_X = np.dot(t_x_c,w) # obtain predictions\n",
      "tr = np.array(test_target)\n",
      "plt.scatter(f_X, tr)\n",
      "#plt.plot(test_x,t,'ro')\n",
      "plt.xlabel(\"Predicted targets: $X$\")\n",
      "plt.ylabel(\"True Targets: $x$\") # x is the test_target -- > quality values in the test_set\n",
      "plt.title(\"True Targets vs Predicted Targets(test set): $x$ vs $X$\") "
     ],
     "language": "python",
     "metadata": {},
     "outputs": [
      {
       "metadata": {},
       "output_type": "pyout",
       "prompt_number": 49,
       "text": [
        "<matplotlib.text.Text at 0x90eaeb8>"
       ]
      },
      {
       "metadata": {},
       "output_type": "display_data",
       "png": "[encoded data removed]",
       "text": [
        "<matplotlib.figure.Figure at 0x8eebe10>"
       ]
      }
     ],
     "prompt_number": 49
    },
    {
     "cell_type": "markdown",
     "metadata": {},
     "source": [
      "<br>\n",
      "Now I will calculate the mean squared error(for the test set):"
     ]
    },
    {
     "cell_type": "code",
     "collapsed": false,
     "input": [
      "mean_se = np.mean((tr - f_X) ** 2)\n",
      "print(mean_se)"
     ],
     "language": "python",
     "metadata": {},
     "outputs": [
      {
       "output_type": "stream",
       "stream": "stdout",
       "text": [
        "0.395610697109\n"
       ]
      }
     ],
     "prompt_number": 50
    },
    {
     "cell_type": "heading",
     "level": 3,
     "metadata": {},
     "source": [
      "4.(d)"
     ]
    },
    {
     "cell_type": "markdown",
     "metadata": {},
     "source": [
      "A mathematical procedure for finding the best-fitting curve to a given set of points by minimizing the sum of the squares of the offsets (\"the residuals\") of the points from the curve. The sum of the squares of the offsets is used instead of the offset absolute values because this allows the residuals to be treated as a continuous differentiable quantity. However, because squares of the offsets are used, outlying points can have a disproportionate effect on the fit, a property which may or may not be desirable depending on the problem at hand.\n",
      "<br>I implement a naive least squares method for linear regression, which is the simplest approach to performing a regression analysis of a dependent and a explanatory variable. This is a good approach for estimating if our mean square value is good. The linear least squares fitting technique is the simplest and most commonly applied form of linear regression and provides a solution to the problem of finding the best fitting straight line through a set of points."
     ]
    },
    {
     "cell_type": "heading",
     "level": 3,
     "metadata": {},
     "source": [
      "4.(e)"
     ]
    },
    {
     "cell_type": "markdown",
     "metadata": {},
     "source": [
      "Variance score: 1 is perfect prediction and 0 means that there is no linear relationship between X and Y."
     ]
    },
    {
     "cell_type": "code",
     "collapsed": false,
     "input": [
      "from sklearn.linear_model import LinearRegression\n",
      "regr = LinearRegression()\n",
      "regr.fit(train_x, train_target)\n",
      "regr.score(test_x, test_target)"
     ],
     "language": "python",
     "metadata": {},
     "outputs": [
      {
       "metadata": {},
       "output_type": "pyout",
       "prompt_number": 51,
       "text": [
        "0.39595016022502472"
       ]
      }
     ],
     "prompt_number": 51
    },
    {
     "cell_type": "code",
     "collapsed": false,
     "input": [
      "np.linalg.lstsq(x, t)[0] # z = a.x+ b.y+ c "
     ],
     "language": "python",
     "metadata": {},
     "outputs": [
      {
       "metadata": {},
       "output_type": "pyout",
       "prompt_number": 52,
       "text": [
        "array([[  8.93559511e+00],\n",
        "       [  1.64038890e-02],\n",
        "       [ -1.15274969e+00],\n",
        "       [ -4.45043275e-01],\n",
        "       [  2.01739173e-02],\n",
        "       [ -1.75634785e+00],\n",
        "       [  1.06693372e-03],\n",
        "       [ -2.38298770e-03],\n",
        "       [ -4.58445470e+00],\n",
        "       [ -5.21267451e-01],\n",
        "       [  8.00971306e-01],\n",
        "       [  3.12780589e-01]])"
       ]
      }
     ],
     "prompt_number": 52
    },
    {
     "cell_type": "heading",
     "level": 3,
     "metadata": {},
     "source": [
      "4.(f)"
     ]
    },
    {
     "cell_type": "markdown",
     "metadata": {},
     "source": [
      "From 4.(d) we can see reasons why the least square method might be better for estimating the bestt-fitting straight line through a set of points. From what we have compute in 4.(e), we see the least-squares solution to our linear matrix equation."
     ]
    },
    {
     "cell_type": "heading",
     "level": 3,
     "metadata": {},
     "source": [
      "<br>Part 5: Regulized Linear Regression"
     ]
    },
    {
     "cell_type": "heading",
     "level": 3,
     "metadata": {},
     "source": [
      "5.(a)"
     ]
    },
    {
     "cell_type": "code",
     "collapsed": false,
     "input": [
      "lambs = [0,0.01,0.02,0.04,0.08,0.16,0.32,0.64,1.28]\n",
      "sq_err = []\n",
      "for lamb in lambs:\n",
      "    #print(lamb*np.identity(x.shape[1]))\n",
      "    np_lamb = np.dot(x.T,x) + x.shape[0]*lamb*np.identity(x.shape[1])\n",
      "    wL = np.dot(np.linalg.inv(np_lamb),np.dot(x.T,t))\n",
      "    f_test = np.dot(t_x_c,wL) #predicted\n",
      "    mse = np.mean((tr - f_test)**2)\n",
      "    sq_err.append(mse)\n",
      "    \n",
      "print(sq_err)\n",
      "print(len(lambs))\n",
      "plt.figure()\n",
      "plt.plot(lambs,sq_err,'-o',linewidth=2)\n",
      "#plt.plot(x,y,'ro')\n",
      "title = '$\\lambda=$%g'%lamb\n",
      "plt.title(title)"
     ],
     "language": "python",
     "metadata": {},
     "outputs": [
      {
       "output_type": "stream",
       "stream": "stdout",
       "text": [
        "[0.39561069710939856, 0.41589348583500862, 0.4219510672289567, 0.43012232477622292, 0.43948585487949832, 0.44850267513856351, 0.45712459011298123, 0.46811103872120119, 0.48734776848205225]\n",
        "9\n"
       ]
      },
      {
       "metadata": {},
       "output_type": "pyout",
       "prompt_number": 53,
       "text": [
        "<matplotlib.text.Text at 0x9029c18>"
       ]
      },
      {
       "metadata": {},
       "output_type": "display_data",
       "png": "[encoded data removed]",
       "text": [
        "<matplotlib.figure.Figure at 0x909ac88>"
       ]
      }
     ],
     "prompt_number": 53
    },
    {
     "cell_type": "heading",
     "level": 3,
     "metadata": {},
     "source": [
      "5.(b)"
     ]
    },
    {
     "cell_type": "markdown",
     "metadata": {},
     "source": [
      "It's not a good way of determining the value of the regularisation parameter, because we are taking the test and training sets by randomisation - it's better to choose them by cross-validation (more precise). "
     ]
    },
    {
     "cell_type": "heading",
     "level": 3,
     "metadata": {},
     "source": [
      "5.(c)"
     ]
    },
    {
     "cell_type": "heading",
     "level": 4,
     "metadata": {},
     "source": [
      "Implement a 10-fold CV on the training data and use this to determine the value of the regularisation parameter."
     ]
    },
    {
     "cell_type": "code",
     "collapsed": false,
     "input": [
      "K = 10\n",
      "sizes = np.tile(np.floor(len(x)/10),(1,K))\n",
      "sizes[-1] = sizes[-1] + len(x) - sizes.sum()\n",
      "c_sizes = np.hstack((0,np.cumsum(sizes)))\n",
      "\n",
      "cv_loss = np.zeros((K,len(lambs)))\n",
      "ind_loss = np.zeros((K,len(lambs)))\n",
      "train_loss = np.zeros((K,len(lambs)))\n",
      "perf_lamb = 0\n",
      "opt_vals = []\n",
      "\n",
      "# we will go through each of the K folds; then we iterate through the lambs as well;\n",
      "for fold in range(K):\n",
      "        X_fold = x[c_sizes[fold]:c_sizes[fold+1],:]\n",
      "        X_train = np.delete(x,np.arange(c_sizes[fold],c_sizes[fold+1],1),0)\n",
      "        t_fold = t[c_sizes[fold]:c_sizes[fold+1]]\n",
      "        t_train = np.delete(t,np.arange(c_sizes[fold],c_sizes[fold+1],1),0)\n",
      "        for lamb in lambs:\n",
      "            np_lamb2 = np.dot(x.T,x) + x.shape[0]*lamb*np.identity(x.shape[1])\n",
      "            w2 = np.dot(np.linalg.inv(np_lamb2),np.dot(x.T,t))\n",
      "            fold_pred = np.dot(X_fold,w2)\n",
      "            index_l = lambs.index(lamb)\n",
      "            cv_loss[fold][index_l]=((fold_pred[:,0] - t_fold[:,0])**2).mean()\n",
      "            ind_pred = np.dot(t_x_c,w2)\n",
      "            ind_loss[fold][index_l]=((ind_pred[:,0] - tr[:,0])**2).mean()\n",
      "            train_pred = np.dot(X_train,w2)\n",
      "            if(lamb==0):\n",
      "                perf_lamb = ((ind_pred[:,0] - tr[:,0])**2).mean()\n",
      "            train_loss[fold][index_l]=((train_pred[:,0] - t_train[:,0])**2).mean()\n",
      "            opt_vals.append(w2)\n",
      "print(\"The optimal value here is 0 and its preformance in the test set is: \" + str(perf_lamb))"
     ],
     "language": "python",
     "metadata": {},
     "outputs": [
      {
       "output_type": "stream",
       "stream": "stdout",
       "text": [
        "The optimal value here is 0 and its preformance in the test set is: 0.421364298855\n"
       ]
      }
     ],
     "prompt_number": 16
    },
    {
     "cell_type": "markdown",
     "metadata": {},
     "source": [
      "Below I am just plotting the training loss, CV loss and the test set loss in order to see how it looks on the plot."
     ]
    },
    {
     "cell_type": "code",
     "collapsed": false,
     "input": [
      "import pylab as plt\n",
      "%matplotlib inline\n",
      "order = np.arange(9)\n",
      "print(train_loss.mean(axis=0))\n",
      "plt.plot(order,train_loss.mean(axis=0),'b-',label=\"Training loss\")\n",
      "plt.plot(order,cv_loss.mean(axis=0),'r-',label=\"CV loss\")\n",
      "plt.plot(order,ind_loss.mean(axis=0),'k',label=\"Independent test loss\")\n",
      "plt.legend()\n",
      "plt.xlabel('Lambas')\n",
      "plt.ylabel('Mean squared loss')"
     ],
     "language": "python",
     "metadata": {},
     "outputs": [
      {
       "output_type": "stream",
       "stream": "stdout",
       "text": [
        "[ 0.4280711   0.44607938  0.45277246  0.46218878  0.47338901  0.48396073\n",
        "  0.49269804  0.50137802  0.51515431]\n"
       ]
      },
      {
       "metadata": {},
       "output_type": "pyout",
       "prompt_number": 36,
       "text": [
        "<matplotlib.text.Text at 0xb6e6940>"
       ]
      },
      {
       "metadata": {},
       "output_type": "display_data",
       "png": "[encoded data removed]",
       "text": [
        "<matplotlib.figure.Figure at 0xb5dfb00>"
       ]
      }
     ],
     "prompt_number": 36
    },
    {
     "cell_type": "heading",
     "level": 3,
     "metadata": {},
     "source": [
      "5.(d)"
     ]
    },
    {
     "cell_type": "markdown",
     "metadata": {},
     "source": [
      "The training loss, the cv loss and the test set loss really depends from the randomisation(of how we have distributed) of the data into the training set and the test set. Because of that we might have differneces(changes) in the performances of both of the models. The minimum mean square loss in the CV goes(around) to 0.401 value, and for the linear regression - to 0.039 (below 0.401). The change in the performance might ocure, also, because of CV is distributing the data into folds - which is giving more precise results. The validation process(in the CV) can involve analyzing the goodness of fit of the regression, analyzing whether the regression residuals are random, and checking whether the model's predictive performance deteriorates substantially when applied to data that were not used in model estimation."
     ]
    },
    {
     "cell_type": "heading",
     "level": 3,
     "metadata": {},
     "source": [
      "<br>Part 6:Classification"
     ]
    },
    {
     "cell_type": "heading",
     "level": 3,
     "metadata": {},
     "source": [
      "6.(a)"
     ]
    },
    {
     "cell_type": "markdown",
     "metadata": {},
     "source": [
      "The regression that we have leads to dense solutions, in which most coefficients are non-zero. The regression considers only residuals in the dependent variable. The dependent variables would be a subject to the same types of observation error as those in the data used for fitting. Regression means to predict the output value using training data. Classification means to group the output into a class."
     ]
    },
    {
     "cell_type": "heading",
     "level": 3,
     "metadata": {},
     "source": [
      "6.(b)"
     ]
    },
    {
     "cell_type": "markdown",
     "metadata": {},
     "source": [
      "I have choosen to implement the KNN(k-Nearest Neighbors) classifier. <br>\n",
      "<b>Advantage:</b> If our training set was small, high bias/low variance classifiers (Naive Bayes) have an advantage over low bias/high variance classifiers (KNN), since the latter will overfit. But low bias/high variance classifiers sare better, because our training set is big (they have lower asymptotic error), since high bias classifiers aren't powerful enough to provide accurate models. <br>\n",
      "<b>Disadvantage:</b> Naive Bayes has simpler implementation than the KNN. If the NB conditional independence assumption actually holds, a Naive Bayes classifier will converge quicker. And even if the NB assumption doesn't hold, a NB classifier still often performs surprisingly well in practice."
     ]
    },
    {
     "cell_type": "heading",
     "level": 3,
     "metadata": {},
     "source": [
      "6.(c)"
     ]
    },
    {
     "cell_type": "markdown",
     "metadata": {},
     "source": [
      "The data that I pre-process is the test and train sets of the red wine data CSV. All of the pre-processing method for this algorithm are explained below. The list of the methods is: <br>\n",
      "<b>euclideanDistance</b>: Calculate the distance between two data instances.\n",
      "<b>getNeighbors</b>: Locate k most similar data instances.\n",
      "<b>getResponse</b>: Generate a response from a set of data instances.\n",
      "<b>getAccuracy</b>: Summarize the accuracy of predictions.\n",
      "<b>The last calculations</b>: Tie it all together."
     ]
    },
    {
     "cell_type": "heading",
     "level": 3,
     "metadata": {},
     "source": [
      "6.(d)"
     ]
    },
    {
     "cell_type": "markdown",
     "metadata": {},
     "source": [
      "To make predictions I am calculating the similarity between any two given data instances. I am locating the k most similar data instances in the training set for a given member of the test set and in turn make a prediction.\n",
      "I am using the Euclidean distance algorithm. It's calculating the square root of the sum of the squared differences between the two arrays of numbers.\n",
      "I am including the first 4 attributes. I am putting the euclidean distance into a fixed length, ignoring the final dimension."
     ]
    },
    {
     "cell_type": "code",
     "collapsed": false,
     "input": [
      "import math\n",
      "def euclideanDistance(ins1, ins2, leng):\n",
      "    dist = 0\n",
      "    for x in range(leng):\n",
      "        dist += pow((ins1[x] - ins2[x]), 2)\n",
      "    return math.sqrt(dist)"
     ],
     "language": "python",
     "metadata": {},
     "outputs": [],
     "prompt_number": 35
    },
    {
     "cell_type": "markdown",
     "metadata": {},
     "source": [
      "I am collecting the k most similar instances for a given unseen instance.\n",
      "I am calculating the distance for all instances and selecting a subset with the smallest distance values.\n",
      "The method below returns k most similar neighbors from the training set for a given test instance (using the already defined euclideanDistance function)."
     ]
    },
    {
     "cell_type": "code",
     "collapsed": false,
     "input": [
      "import operator \n",
      "def getNeighbors(trainSet, testIns, k):\n",
      "    distances = []\n",
      "    length = len(testIns)-1\n",
      "    for x in range(len(trainSet)):\n",
      "        dist = euclideanDistance(testIns, trainSet[x], length)\n",
      "        distances.append((trainSet[x], dist))\n",
      "    distances.sort(key=operator.itemgetter(1))\n",
      "    neighbors = []\n",
      "    for x in range(k):\n",
      "        neighbors.append(distances[x][0])\n",
      "    return neighbors"
     ],
     "language": "python",
     "metadata": {},
     "outputs": [],
     "prompt_number": 34
    },
    {
     "cell_type": "markdown",
     "metadata": {},
     "source": [
      "The next method computes the predicted response based on those neighbors.\n",
      "I am doing this by allowing each neighbor to vote for their class attribute, and take the majority vote as the prediction.\n",
      "The method assumes that the class is the last attribute for each neighbor."
     ]
    },
    {
     "cell_type": "code",
     "collapsed": false,
     "input": [
      "def getResponse(neighb):\n",
      "    classVotes = {}\n",
      "    for x in range(len(neighb)):\n",
      "        resp = neighb[x][-1]\n",
      "        if resp in classVotes:\n",
      "            classVotes[resp] += 1\n",
      "        else:\n",
      "            classVotes[resp] = 1\n",
      "    sortedVotes = sorted(classVotes.items(), key=operator.itemgetter(1), reverse=True) # using Python3.4 --> items() is the same as iteritems() here\n",
      "    return sortedVotes[0][0]"
     ],
     "language": "python",
     "metadata": {},
     "outputs": [],
     "prompt_number": 30
    },
    {
     "cell_type": "markdown",
     "metadata": {},
     "source": [
      "Now we will evaluate the accuracy of predictions. To do that is to calculate a ratio of the total correct predictions out of all predictions made, called the classification accuracy. The method below sums the total correct predictions and returns the accuracy as a percentage of correct classifications."
     ]
    },
    {
     "cell_type": "code",
     "collapsed": false,
     "input": [
      "# compute the accuracy\n",
      "def getAccuracy(testSet, predict):\n",
      "    correct = 0\n",
      "    for x in range(len(testSet)):\n",
      "        a1 = predict[x]\n",
      "        b1 = testSet[x][-1]\n",
      "        if (b1==a1):\n",
      "            correct += 1\n",
      "    return (correct/float(len(testSet))) * 100.0 "
     ],
     "language": "python",
     "metadata": {},
     "outputs": [],
     "prompt_number": 31
    },
    {
     "cell_type": "code",
     "collapsed": false,
     "input": [
      "# genereta the main method for the KNN algoritm\n",
      "import timeit\n",
      "start = timeit.default_timer()\n",
      "print ('Train set: ' + repr(len(training_set)))\n",
      "print ('Test set: ' + repr(len(test_set)))\n",
      "\n",
      "predict=[] # generate predictions\n",
      "k = 5\n",
      "for x in range(len(test_set)):\n",
      "        neighb = getNeighbors(training_set, test_set[x], k)\n",
      "        result = getResponse(neighb)\n",
      "        predict.append(result)\n",
      "        #print('> predicted=' + repr(result) + ', actual=' + repr(test_set[x][-1]))  ---> a good way to track the process of the algorithm\n",
      "accuracy = getAccuracy(test_set, predict)\n",
      "print('Accuracy: ' + repr(accuracy) + '%')\n",
      "stop = timeit.default_timer()\n",
      "print (stop - start) "
     ],
     "language": "python",
     "metadata": {},
     "outputs": [
      {
       "output_type": "stream",
       "stream": "stdout",
       "text": [
        "Train set: 1119\n",
        "Test set: 480\n",
        "Accuracy: 56.458333333333336%"
       ]
      },
      {
       "output_type": "stream",
       "stream": "stdout",
       "text": [
        "\n",
        "85.6365663832321\n"
       ]
      }
     ],
     "prompt_number": 32
    },
    {
     "cell_type": "heading",
     "level": 3,
     "metadata": {},
     "source": [
      "6.(e)"
     ]
    },
    {
     "cell_type": "markdown",
     "metadata": {},
     "source": [
      "I am using the sklearn confusion matrix here, but I have explained how it works clearly in the coments and in 6.(f)."
     ]
    },
    {
     "cell_type": "code",
     "collapsed": false,
     "input": [
      "from sklearn.metrics import confusion_matrix\n",
      "    \n",
      "confusion_matrix(test_target, predictions)\n",
      "# builds a matrix; it's comparing the actual value of the target in the test\n",
      "# set of the data agianst the predicted value and if they are equal it increments a counter (variable)\n",
      "# that is then a value in the cells of the confusion matrix --> it's a lot like the accuracy method \n",
      "# that I implemented for the KNN algorithm;"
     ],
     "language": "python",
     "metadata": {},
     "outputs": [
      {
       "metadata": {},
       "output_type": "pyout",
       "prompt_number": 99,
       "text": [
        "array([[  1,   0,   1,   2,   1,   0],\n",
        "       [  0,   5,   8,   4,   0,   0],\n",
        "       [  0,   5, 144,  44,   3,   1],\n",
        "       [  0,   3,  70, 114,   9,   0],\n",
        "       [  1,   5,   8,  26,  21,   0],\n",
        "       [  0,   0,   1,   2,   1,   0]])"
       ]
      }
     ],
     "prompt_number": 99
    },
    {
     "cell_type": "heading",
     "level": 3,
     "metadata": {},
     "source": [
      "6.(f)"
     ]
    },
    {
     "cell_type": "markdown",
     "metadata": {},
     "source": [
      "The <b>confusion matrix</b>, also know as the error matrix, is a specific table layout that allows visualization of the performance of an algorithm. Each column of the matrix represents the instances in a predicted class, while each row represents the instances in an actual class. The biggest values in our confusion matrix is 144 and it appears 2 cells in the matrix ([3,3],[4,4]). This means that the prediction values are picking a lot of values as the actual values - all correct guesses are located in the diagonal of the table, so it's easy to visually inspect the table for errors, as they are represented by values outside the diagonal. We can see from the matrix that the system has trouble distinguishing between the fifth value of the actual target and the fourth value ([5, 4] cell in the confuison matrix)."
     ]
    }
   ],
   "metadata": {}
  }
 ]
}